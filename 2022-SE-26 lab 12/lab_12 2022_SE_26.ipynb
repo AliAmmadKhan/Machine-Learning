{
 "cells": [
  {
   "cell_type": "markdown",
   "metadata": {
    "colab_type": "text",
    "id": "view-in-github"
   },
   "source": [
    "<a href=\"https://colab.research.google.com/github/Abdul-ur-Rehman-Butt/2022-SE-27_LAB_TASKS_ML/blob/main/lab_12__2022_SE_27.ipynb\" target=\"_parent\"><img src=\"https://colab.research.google.com/assets/colab-badge.svg\" alt=\"Open In Colab\"/></a>"
   ]
  },
  {
   "cell_type": "code",
   "execution_count": 7,
   "metadata": {
    "id": "4XKRcBFDh4JL"
   },
   "outputs": [
    {
     "name": "stdout",
     "output_type": "stream",
     "text": [
      "Requirement already satisfied: openpyxl in c:\\users\\hp\\anaconda3\\lib\\site-packages (3.1.5)\n",
      "Requirement already satisfied: et-xmlfile in c:\\users\\hp\\anaconda3\\lib\\site-packages (from openpyxl) (1.1.0)\n"
     ]
    }
   ],
   "source": [
    "!pip install openpyxl"
   ]
  },
  {
   "cell_type": "code",
   "execution_count": 13,
   "metadata": {
    "id": "4XKRcBFDh4JL"
   },
   "outputs": [],
   "source": [
    "import pandas as pd\n",
    "import numpy as np\n",
    "import matplotlib.pyplot as plt\n",
    "from sklearn.cluster import KMeans, DBSCAN\n",
    "from sklearn.preprocessing import StandardScaler\n",
    "from scipy.stats import zscore"
   ]
  },
  {
   "cell_type": "code",
   "execution_count": null,
   "metadata": {
    "id": "50-8Vpksh7b5"
   },
   "outputs": [
    {
     "name": "stderr",
     "output_type": "stream",
     "text": [
      "<>:1: SyntaxWarning: invalid escape sequence '\\D'\n",
      "<>:1: SyntaxWarning: invalid escape sequence '\\D'\n",
      "C:\\Users\\hp\\AppData\\Local\\Temp\\ipykernel_9056\\3599991774.py:1: SyntaxWarning: invalid escape sequence '\\D'\n",
      "  data  = pd.read_excel(\"C:\\\\Users\\\\hp\\Desktop\\\\retail_d.xlsx\", engine=\"openpyxl\")\n"
     ]
    }
   ],
   "source": [
    "data  = pd.read_excel(\"C:\\\\Users\\\\hp\\Desktop\\\\retail_d.xlsx\", engine=\"openpyxl\")"
   ]
  },
  {
   "cell_type": "code",
   "execution_count": null,
   "metadata": {
    "colab": {
     "base_uri": "https://localhost:8080/",
     "height": 206
    },
    "id": "JIKIdWX3iKXE",
    "outputId": "c5a23e4a-bf36-4ef2-ca98-05e88bd43dd4"
   },
   "outputs": [],
   "source": [
    "data.head()"
   ]
  },
  {
   "cell_type": "code",
   "execution_count": null,
   "metadata": {
    "colab": {
     "base_uri": "https://localhost:8080/",
     "height": 300
    },
    "id": "2FvLJdMci4HK",
    "outputId": "46519de4-4dcb-4b26-bb92-52af3d329ff0"
   },
   "outputs": [],
   "source": [
    "data.describe()"
   ]
  },
  {
   "cell_type": "code",
   "execution_count": null,
   "metadata": {
    "id": "8T7VvzL6i6AY"
   },
   "outputs": [],
   "source": [
    "# Fill missing numerical values with 0\n",
    "data.fillna({\"CustomerID\": data[\"CustomerID\"].median(),  # Use median for ID\n",
    "           \"Description\": \"Unknown\",  # Use 'Unknown' for missing descriptions\n",
    "           \"Quantity\": 0,\n",
    "           \"UnitPrice\": 0}, inplace=True)\n"
   ]
  },
  {
   "cell_type": "code",
   "execution_count": null,
   "metadata": {
    "id": "D_Pa_jAui-Mh"
   },
   "outputs": [],
   "source": [
    "# Drop rows with missing CustomerID\n",
    "data_cleaned = data.dropna(subset=[\"CustomerID\"])"
   ]
  },
  {
   "cell_type": "code",
   "execution_count": null,
   "metadata": {
    "colab": {
     "base_uri": "https://localhost:8080/",
     "height": 300
    },
    "id": "uRFm0R8yjCWf",
    "outputId": "03be9942-acd8-4c52-8ff4-b21725143a1b"
   },
   "outputs": [],
   "source": [
    "data.describe()"
   ]
  },
  {
   "cell_type": "code",
   "execution_count": null,
   "metadata": {
    "id": "cjyBij4VjGlP"
   },
   "outputs": [],
   "source": [
    "# Remove outliers using the IQR method\n",
    "Q1 = data_cleaned[['Quantity', 'UnitPrice']].quantile(0.25)\n",
    "Q3 = data_cleaned[['Quantity', 'UnitPrice']].quantile(0.75)\n",
    "IQR = Q3 - Q1\n",
    "lower_bound = Q1 - 1.5 * IQR\n",
    "upper_bound = Q3 + 1.5 * IQR\n",
    "df_filtered = data_cleaned[~((data_cleaned[['Quantity', 'UnitPrice']] < lower_bound) |\n",
    "                           (data_cleaned[['Quantity', 'UnitPrice']] > upper_bound)).any(axis=1)]"
   ]
  },
  {
   "cell_type": "code",
   "execution_count": null,
   "metadata": {
    "id": "fRtZ6H-djm3C"
   },
   "outputs": [],
   "source": [
    "# Aggregate customer purchasing behavior\n",
    "customer_data = df_filtered.groupby(\"CustomerID\").agg(\n",
    "    TotalSpent=(\"UnitPrice\", lambda x: (x * df_filtered.loc[x.index, \"Quantity\"]).sum()),\n",
    "    TotalQuantity=(\"Quantity\", \"sum\"),\n",
    "    UniqueProducts=(\"StockCode\", \"nunique\")\n",
    ").reset_index()"
   ]
  },
  {
   "cell_type": "code",
   "execution_count": null,
   "metadata": {
    "id": "SkDNBptcjtfc"
   },
   "outputs": [],
   "source": [
    "# Standardize the data\n",
    "scaler = StandardScaler()\n",
    "scaled_data = scaler.fit_transform(customer_data.iloc[:, 1:])  # Exclude CustomerID"
   ]
  },
  {
   "cell_type": "code",
   "execution_count": null,
   "metadata": {
    "id": "ZCs_R3CVjw4h"
   },
   "outputs": [],
   "source": [
    "# Determine the optimal K using the Elbow method\n",
    "inertia = []\n",
    "K_range = range(1, 11)\n",
    "for k in K_range:\n",
    "    kmeans = KMeans(n_clusters=k, random_state=42, n_init=10)\n",
    "    kmeans.fit(scaled_data)\n",
    "    inertia.append(kmeans.inertia_)"
   ]
  },
  {
   "cell_type": "code",
   "execution_count": null,
   "metadata": {
    "colab": {
     "base_uri": "https://localhost:8080/",
     "height": 487
    },
    "id": "2rDIP40Ajyxm",
    "outputId": "14896d53-fc77-4771-9f75-206770a7f88f"
   },
   "outputs": [],
   "source": [
    "# Plot the Elbow Method\n",
    "plt.figure(figsize=(8, 5))\n",
    "plt.plot(K_range, inertia, marker='o', linestyle='-')\n",
    "plt.xlabel(\"Number of Clusters (K)\")\n",
    "plt.ylabel(\"Inertia\")\n",
    "plt.title(\"Elbow Method for Optimal K\")\n",
    "plt.show()"
   ]
  },
  {
   "cell_type": "code",
   "execution_count": null,
   "metadata": {
    "id": "QNl1gu0jj1t2"
   },
   "outputs": [],
   "source": [
    "# Apply K-Means clustering\n",
    "optimal_k = 4  # Choose based on the Elbow Method plot\n",
    "kmeans = KMeans(n_clusters=optimal_k, random_state=42, n_init=10)\n",
    "customer_data[\"Cluster_KMeans\"] = kmeans.fit_predict(scaled_data)"
   ]
  },
  {
   "cell_type": "code",
   "execution_count": null,
   "metadata": {
    "id": "ho_i0fhXj5IP"
   },
   "outputs": [],
   "source": [
    "# Apply DBSCAN clustering\n",
    "dbscan = DBSCAN(eps=1.2, min_samples=5)  # Adjust eps and min_samples as needed\n",
    "customer_data[\"Cluster_DBSCAN\"] = dbscan.fit_predict(scaled_data)\n"
   ]
  },
  {
   "cell_type": "code",
   "execution_count": null,
   "metadata": {
    "colab": {
     "base_uri": "https://localhost:8080/"
    },
    "id": "PX-s1zGbj7JO",
    "outputId": "7c4673e0-6a76-4b72-84b8-d021d130f186"
   },
   "outputs": [],
   "source": [
    "# Compare clustering results\n",
    "print(\"K-Means Clustering Results:\")\n",
    "print(customer_data[\"Cluster_KMeans\"].value_counts())\n",
    "\n",
    "print(\"\\nDBSCAN Clustering Results:\")\n",
    "print(customer_data[\"Cluster_DBSCAN\"].value_counts())"
   ]
  },
  {
   "cell_type": "code",
   "execution_count": null,
   "metadata": {
    "colab": {
     "base_uri": "https://localhost:8080/",
     "height": 468
    },
    "id": "2mFE-CC8j9ie",
    "outputId": "0635f126-0c60-4c91-ccec-3ab67f17cb50"
   },
   "outputs": [],
   "source": [
    "# Visualize the clustering results\n",
    "plt.figure(figsize=(12, 5))\n",
    "plt.subplot(1, 2, 1)\n",
    "plt.scatter(scaled_data[:, 0], scaled_data[:, 1], c=customer_data[\"Cluster_KMeans\"], cmap='viridis', alpha=0.5)\n",
    "plt.title(\"K-Means Clustering\")\n",
    "\n",
    "plt.subplot(1, 2, 2)\n",
    "plt.scatter(scaled_data[:, 0], scaled_data[:, 1], c=customer_data[\"Cluster_DBSCAN\"], cmap='plasma', alpha=0.5)\n",
    "plt.title(\"DBSCAN Clustering\")\n",
    "\n",
    "plt.show()\n"
   ]
  },
  {
   "cell_type": "code",
   "execution_count": null,
   "metadata": {
    "id": "LTRnoMvQkBls"
   },
   "outputs": [],
   "source": []
  },
  {
   "cell_type": "code",
   "execution_count": null,
   "metadata": {},
   "outputs": [],
   "source": []
  },
  {
   "cell_type": "code",
   "execution_count": null,
   "metadata": {},
   "outputs": [],
   "source": []
  },
  {
   "cell_type": "code",
   "execution_count": null,
   "metadata": {},
   "outputs": [],
   "source": []
  }
 ],
 "metadata": {
  "colab": {
   "authorship_tag": "ABX9TyPq6Oo87sLS2OtIus8bk1DS",
   "include_colab_link": true,
   "provenance": []
  },
  "kernelspec": {
   "display_name": "Python 3 (ipykernel)",
   "language": "python",
   "name": "python3"
  },
  "language_info": {
   "codemirror_mode": {
    "name": "ipython",
    "version": 3
   },
   "file_extension": ".py",
   "mimetype": "text/x-python",
   "name": "python",
   "nbconvert_exporter": "python",
   "pygments_lexer": "ipython3",
   "version": "3.12.7"
  }
 },
 "nbformat": 4,
 "nbformat_minor": 4
}
